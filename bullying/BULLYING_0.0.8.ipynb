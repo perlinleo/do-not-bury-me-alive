{
 "cells": [
  {
   "attachments": {},
   "cell_type": "markdown",
   "metadata": {},
   "source": [
    "[![Kaggle link](https://img.shields.io/badge/изначальный%20датасет-Открыть-orange?style=social&logo=kaggle)](https://www.kaggle.com/datasets/leomartinelli/bullying-in-schools)\n"
   ]
  },
  {
   "cell_type": "code",
   "execution_count": null,
   "metadata": {},
   "outputs": [],
   "source": [
    "df_csv_path = '/Users/blacksnow/bmstu/ММО/Лабораторные работы/datasets/Bullying_2018_raw.csv'"
   ]
  },
  {
   "attachments": {},
   "cell_type": "markdown",
   "metadata": {},
   "source": [
    "# §1. Зависимости"
   ]
  },
  {
   "cell_type": "code",
   "execution_count": null,
   "metadata": {},
   "outputs": [],
   "source": [
    "import pandas as pd\n",
    "from tabulate import tabulate\n",
    "import numpy as np\n",
    "%matplotlib inline "
   ]
  },
  {
   "attachments": {},
   "cell_type": "markdown",
   "metadata": {},
   "source": [
    "## §2. Описание изначального датасета"
   ]
  },
  {
   "cell_type": "code",
   "execution_count": null,
   "metadata": {},
   "outputs": [],
   "source": [
    "bullying_df = pd.read_csv(df_csv_path) "
   ]
  },
  {
   "cell_type": "code",
   "execution_count": null,
   "metadata": {},
   "outputs": [],
   "source": [
    "bull_desc = [\n",
    "    ['Номер ответа','-'],\n",
    "    ['В школе (за последние 12 месяцев)','Категориальный'], # - №2\n",
    "    ['Вне школы (за последние 12 месяцев)','Категориальный'], # - №3\n",
    "    ['Кибербуллинг (последние 12 месяцев?)','Категориальный'], # - №3\n",
    "    ['Возраст респондента','Числовой'], # - №4\n",
    "    ['Пол респондента','Категориальный'], # - №5\n",
    "    ['Количество физических атак','Числовой'], # - №6\n",
    "    ['Количество драк','Числовой'], # # - №7\n",
    "    ['Ощущение одинокости','Категориальный'], # # - №8\n",
    "    ['Количество близких друзей','Числовой'], # - №9\n",
    "    ['Количество дней пропусков школы без разрешения','Числовой '], # - №10\n",
    "    ['Доброта и отзывчивость окружающих','Категориальный'], # - №11\n",
    "    ['Частота проблем взаимопонимания с родителями','Категориальный'], # - №12\n",
    "    ['Ощущение одинокости большую части (частота)','Категориальный'], # # - №13\n",
    "    ['Пропускали ли вы школу без разрешения (да/нет)','Категориальный'], # - №14\n",
    "    ['Масса вашего тела в школе была ниже нормы?','Категориальный'], # - №15\n",
    "    ['Масса вашего тела в школе была выше нормы?','Категориальный'], # - №16\n",
    "    ['Вы страдали ожирением?','Категориальный'], # - №17\n",
    "]\n"
   ]
  },
  {
   "attachments": {},
   "cell_type": "markdown",
   "metadata": {},
   "source": [
    "## §5. Проверка на пропуски изначального датасета"
   ]
  },
  {
   "cell_type": "code",
   "execution_count": null,
   "metadata": {},
   "outputs": [],
   "source": [
    "bullying_df.columns"
   ]
  },
  {
   "cell_type": "code",
   "execution_count": null,
   "metadata": {},
   "outputs": [],
   "source": [
    "df_variants = []\n",
    "\n",
    "for col in bullying_df.columns:\n",
    "    variants = bullying_df[col].unique()\n",
    "    table = np.array(variants)\n",
    "    print()\n",
    "    print(table.ndim)\n",
    "    if table.shape[0]<10:\n",
    "        # table=table.transpose()\n",
    "        print(tabulate([x for x in range(len(variants))],headers=[x+1 for x in range(0,table.shape[0])],tablefmt='github'))"
   ]
  },
  {
   "attachments": {},
   "cell_type": "markdown",
   "metadata": {},
   "source": [
    "## §3. Статистика по датасету"
   ]
  },
  {
   "cell_type": "code",
   "execution_count": null,
   "metadata": {},
   "outputs": [],
   "source": [
    "\n",
    "def stats(data=bullying_df, desc=bull_desc, headers=('Номер','Название','Описание','Кат.','Числ.','Кол-во вариаций')):\n",
    "    headers=('Номер','dtype','Описание','Тип','Кол-во пропусков','Кол-во вариаций')\n",
    "    table = np.arange(data.shape[1]*len(headers))\n",
    "    table = table.reshape(len(headers),data.shape[1])\n",
    "\n",
    "    table = np.array([\n",
    "                [x for x in range(1,19)],\n",
    "                [d for d in data.dtypes],\n",
    "                [a[0] for a in desc],\n",
    "                [a[1] for a in desc],\n",
    "                [data[col].isna().sum() for col in data.columns],\n",
    "                [data[col].nunique() for col in data.columns]])\n",
    "\n",
    "    table = table.transpose()\n",
    "\n",
    "    print(\n",
    "        tabulate(\n",
    "            [data.shape],\n",
    "            headers=('Кол-во строк', 'Кол-во столбцов'),\n",
    "            tablefmt=\"github\"),\n",
    "        end='\\n\\n\\n'\n",
    "        )\n",
    "    \n",
    "    print(\n",
    "        tabulate(\n",
    "            table,\n",
    "            headers=headers,\n",
    "            tablefmt='github'\n",
    "        ),\n",
    "        end='\\n\\n\\n'\n",
    "        )\n",
    "\n",
    "stats()"
   ]
  },
  {
   "attachments": {},
   "cell_type": "markdown",
   "metadata": {},
   "source": [
    "## §4. Нормализация данных"
   ]
  },
  {
   "cell_type": "code",
   "execution_count": null,
   "metadata": {},
   "outputs": [],
   "source": [
    "def normalized_source(df=bullying_df):\n",
    "    return df\n",
    "\n",
    "stats(data=normalized_source())\n"
   ]
  }
 ],
 "metadata": {
  "kernelspec": {
   "display_name": "snowflakes",
   "language": "python",
   "name": "python3"
  },
  "language_info": {
   "codemirror_mode": {
    "name": "ipython",
    "version": 3
   },
   "file_extension": ".py",
   "mimetype": "text/x-python",
   "name": "python",
   "nbconvert_exporter": "python",
   "pygments_lexer": "ipython3",
   "version": "3.10.9"
  },
  "orig_nbformat": 4
 },
 "nbformat": 4,
 "nbformat_minor": 2
}
