{
 "cells": [
  {
   "attachments": {},
   "cell_type": "markdown",
   "metadata": {},
   "source": [
    "[![Kaggle link](https://img.shields.io/badge/изначальный%20датасет-Открыть-orange?style=social&logo=kaggle)](https://www.kaggle.com/datasets/leomartinelli/bullying-in-schools)\n"
   ]
  },
  {
   "cell_type": "code",
   "execution_count": 76,
   "metadata": {},
   "outputs": [],
   "source": [
    "df_csv_path = '/Users/blacksnow/bmstu/ММО/Лабораторные работы/datasets/Bullying_2018_raw.csv'"
   ]
  },
  {
   "attachments": {},
   "cell_type": "markdown",
   "metadata": {},
   "source": [
    "# §1. Зависимости"
   ]
  },
  {
   "cell_type": "code",
   "execution_count": 77,
   "metadata": {},
   "outputs": [],
   "source": [
    "import pandas as pd\n",
    "import pandas.io.sql as psql\n",
    "from tabulate import tabulate\n",
    "import numpy as np\n",
    "%matplotlib inline "
   ]
  },
  {
   "cell_type": "code",
   "execution_count": 78,
   "metadata": {},
   "outputs": [],
   "source": [
    "!python scripts/config.py"
   ]
  },
  {
   "cell_type": "code",
   "execution_count": 79,
   "metadata": {},
   "outputs": [
    {
     "name": "stdout",
     "output_type": "stream",
     "text": [
      "Connecting to the PostgreSQL database...\n",
      "PostgreSQL database version:\n",
      "('PostgreSQL 15.2 (Debian 15.2-1.pgdg110+1) on aarch64-unknown-linux-gnu, compiled by gcc (Debian 10.2.1-6) 10.2.1 20210110, 64-bit',)\n",
      "Database connection closed.\n"
     ]
    }
   ],
   "source": [
    "!python3 scripts/connect.py"
   ]
  },
  {
   "attachments": {},
   "cell_type": "markdown",
   "metadata": {},
   "source": [
    "## §2. Описание изначального датасета"
   ]
  },
  {
   "cell_type": "code",
   "execution_count": 80,
   "metadata": {},
   "outputs": [
    {
     "name": "stderr",
     "output_type": "stream",
     "text": [
      "/var/folders/g8/xtt465_57r53fy239yttrrrm0000gn/T/ipykernel_11725/3834999804.py:1: UserWarning:\n",
      "\n",
      "pandas only supports SQLAlchemy connectable (engine/connection) or database string URI or sqlite3 DBAPI2 connection. Other DBAPI2 objects are not tested. Please consider using SQLAlchemy.\n",
      "\n"
     ]
    },
    {
     "data": {
      "text/html": [
       "<div>\n",
       "<style scoped>\n",
       "    .dataframe tbody tr th:only-of-type {\n",
       "        vertical-align: middle;\n",
       "    }\n",
       "\n",
       "    .dataframe tbody tr th {\n",
       "        vertical-align: top;\n",
       "    }\n",
       "\n",
       "    .dataframe thead th {\n",
       "        text-align: right;\n",
       "    }\n",
       "</style>\n",
       "<table border=\"1\" class=\"dataframe\">\n",
       "  <thead>\n",
       "    <tr style=\"text-align: right;\">\n",
       "      <th></th>\n",
       "      <th>record</th>\n",
       "      <th>bullied_on_school_property_in_past_12_months</th>\n",
       "      <th>bullied_not_on_school_property_in_past_12_months</th>\n",
       "      <th>cyber_bullied_in_past_12_months</th>\n",
       "      <th>custom_age</th>\n",
       "      <th>sex</th>\n",
       "      <th>physically_attacked</th>\n",
       "      <th>physical_fighting</th>\n",
       "      <th>felt_lonely</th>\n",
       "      <th>close_friends</th>\n",
       "      <th>miss_school_no_permission</th>\n",
       "      <th>other_students_kind_and_helpful</th>\n",
       "      <th>parents_understand_problems</th>\n",
       "      <th>most_of_the_time_or_always_felt_lonely</th>\n",
       "      <th>missed_classes_or_school_without_permission</th>\n",
       "      <th>were_underweight</th>\n",
       "      <th>were_overweight</th>\n",
       "      <th>were_obese</th>\n",
       "    </tr>\n",
       "  </thead>\n",
       "  <tbody>\n",
       "    <tr>\n",
       "      <th>0</th>\n",
       "      <td>1</td>\n",
       "      <td>Yes</td>\n",
       "      <td>Yes</td>\n",
       "      <td>None</td>\n",
       "      <td>13 years old</td>\n",
       "      <td>Female</td>\n",
       "      <td>0 times</td>\n",
       "      <td>0 times</td>\n",
       "      <td>Always</td>\n",
       "      <td>2</td>\n",
       "      <td>10 or more days</td>\n",
       "      <td>Never</td>\n",
       "      <td>Always</td>\n",
       "      <td>Yes</td>\n",
       "      <td>Yes</td>\n",
       "      <td>None</td>\n",
       "      <td>None</td>\n",
       "      <td>None</td>\n",
       "    </tr>\n",
       "    <tr>\n",
       "      <th>1</th>\n",
       "      <td>2</td>\n",
       "      <td>No</td>\n",
       "      <td>No</td>\n",
       "      <td>No</td>\n",
       "      <td>13 years old</td>\n",
       "      <td>Female</td>\n",
       "      <td>0 times</td>\n",
       "      <td>0 times</td>\n",
       "      <td>Never</td>\n",
       "      <td>3 or more</td>\n",
       "      <td>0 days</td>\n",
       "      <td>Sometimes</td>\n",
       "      <td>Always</td>\n",
       "      <td>No</td>\n",
       "      <td>No</td>\n",
       "      <td>None</td>\n",
       "      <td>None</td>\n",
       "      <td>None</td>\n",
       "    </tr>\n",
       "    <tr>\n",
       "      <th>2</th>\n",
       "      <td>3</td>\n",
       "      <td>No</td>\n",
       "      <td>No</td>\n",
       "      <td>No</td>\n",
       "      <td>14 years old</td>\n",
       "      <td>Male</td>\n",
       "      <td>0 times</td>\n",
       "      <td>0 times</td>\n",
       "      <td>Never</td>\n",
       "      <td>3 or more</td>\n",
       "      <td>0 days</td>\n",
       "      <td>Sometimes</td>\n",
       "      <td>Always</td>\n",
       "      <td>No</td>\n",
       "      <td>No</td>\n",
       "      <td>No</td>\n",
       "      <td>No</td>\n",
       "      <td>No</td>\n",
       "    </tr>\n",
       "    <tr>\n",
       "      <th>3</th>\n",
       "      <td>4</td>\n",
       "      <td>No</td>\n",
       "      <td>No</td>\n",
       "      <td>No</td>\n",
       "      <td>16 years old</td>\n",
       "      <td>Male</td>\n",
       "      <td>0 times</td>\n",
       "      <td>2 or 3 times</td>\n",
       "      <td>Never</td>\n",
       "      <td>3 or more</td>\n",
       "      <td>0 days</td>\n",
       "      <td>Sometimes</td>\n",
       "      <td>None</td>\n",
       "      <td>No</td>\n",
       "      <td>No</td>\n",
       "      <td>No</td>\n",
       "      <td>No</td>\n",
       "      <td>No</td>\n",
       "    </tr>\n",
       "    <tr>\n",
       "      <th>4</th>\n",
       "      <td>5</td>\n",
       "      <td>No</td>\n",
       "      <td>No</td>\n",
       "      <td>No</td>\n",
       "      <td>13 years old</td>\n",
       "      <td>Female</td>\n",
       "      <td>0 times</td>\n",
       "      <td>0 times</td>\n",
       "      <td>Rarely</td>\n",
       "      <td>3 or more</td>\n",
       "      <td>0 days</td>\n",
       "      <td>Most of the time</td>\n",
       "      <td>Most of the time</td>\n",
       "      <td>No</td>\n",
       "      <td>No</td>\n",
       "      <td>None</td>\n",
       "      <td>None</td>\n",
       "      <td>None</td>\n",
       "    </tr>\n",
       "  </tbody>\n",
       "</table>\n",
       "</div>"
      ],
      "text/plain": [
       "   record bullied_on_school_property_in_past_12_months  \\\n",
       "0       1                                          Yes   \n",
       "1       2                                           No   \n",
       "2       3                                           No   \n",
       "3       4                                           No   \n",
       "4       5                                           No   \n",
       "\n",
       "  bullied_not_on_school_property_in_past_12_months  \\\n",
       "0                                              Yes   \n",
       "1                                               No   \n",
       "2                                               No   \n",
       "3                                               No   \n",
       "4                                               No   \n",
       "\n",
       "  cyber_bullied_in_past_12_months    custom_age     sex physically_attacked  \\\n",
       "0                            None  13 years old  Female             0 times   \n",
       "1                              No  13 years old  Female             0 times   \n",
       "2                              No  14 years old    Male             0 times   \n",
       "3                              No  16 years old    Male             0 times   \n",
       "4                              No  13 years old  Female             0 times   \n",
       "\n",
       "  physical_fighting felt_lonely close_friends miss_school_no_permission  \\\n",
       "0           0 times      Always             2           10 or more days   \n",
       "1           0 times       Never     3 or more                    0 days   \n",
       "2           0 times       Never     3 or more                    0 days   \n",
       "3      2 or 3 times       Never     3 or more                    0 days   \n",
       "4           0 times      Rarely     3 or more                    0 days   \n",
       "\n",
       "  other_students_kind_and_helpful parents_understand_problems  \\\n",
       "0                           Never                      Always   \n",
       "1                       Sometimes                      Always   \n",
       "2                       Sometimes                      Always   \n",
       "3                       Sometimes                        None   \n",
       "4                Most of the time            Most of the time   \n",
       "\n",
       "  most_of_the_time_or_always_felt_lonely  \\\n",
       "0                                    Yes   \n",
       "1                                     No   \n",
       "2                                     No   \n",
       "3                                     No   \n",
       "4                                     No   \n",
       "\n",
       "  missed_classes_or_school_without_permission were_underweight  \\\n",
       "0                                         Yes             None   \n",
       "1                                          No             None   \n",
       "2                                          No               No   \n",
       "3                                          No               No   \n",
       "4                                          No             None   \n",
       "\n",
       "  were_overweight were_obese  \n",
       "0            None       None  \n",
       "1            None       None  \n",
       "2              No         No  \n",
       "3              No         No  \n",
       "4            None       None  "
      ]
     },
     "execution_count": 80,
     "metadata": {},
     "output_type": "execute_result"
    }
   ],
   "source": [
    "bullying_df = psql.read_sql_query('SELECT * from bullying;',conn)\n",
    "bullying_df.head()"
   ]
  },
  {
   "cell_type": "code",
   "execution_count": 81,
   "metadata": {},
   "outputs": [
    {
     "data": {
      "text/plain": [
       "Index(['record', 'bullied_on_school_property_in_past_12_months',\n",
       "       'bullied_not_on_school_property_in_past_12_months',\n",
       "       'cyber_bullied_in_past_12_months', 'custom_age', 'sex',\n",
       "       'physically_attacked', 'physical_fighting', 'felt_lonely',\n",
       "       'close_friends', 'miss_school_no_permission',\n",
       "       'other_students_kind_and_helpful', 'parents_understand_problems',\n",
       "       'most_of_the_time_or_always_felt_lonely',\n",
       "       'missed_classes_or_school_without_permission', 'were_underweight',\n",
       "       'were_overweight', 'were_obese'],\n",
       "      dtype='object')"
      ]
     },
     "execution_count": 81,
     "metadata": {},
     "output_type": "execute_result"
    }
   ],
   "source": [
    "bullying_df.columns"
   ]
  },
  {
   "cell_type": "code",
   "execution_count": 82,
   "metadata": {},
   "outputs": [],
   "source": [
    "bull_desc = [\n",
    "    ['Номер ответа','-'],\n",
    "    ['В школе (за последние 12 месяцев)','Категориальный'], # - №2\n",
    "    ['Вне школы (за последние 12 месяцев)','Категориальный'], # - №3\n",
    "    ['Кибербуллинг (последние 12 месяцев?)','Категориальный'], # - №3\n",
    "    ['Возраст респондента','Числовой'], # - №4\n",
    "    ['Пол респондента','Категориальный'], # - №5\n",
    "    ['Количество физических атак','Числовой'], # - №6\n",
    "    ['Количество драк','Числовой'], # # - №7\n",
    "    ['Ощущение одинокости','Категориальный'], # # - №8\n",
    "    ['Количество близких друзей','Числовой'], # - №9\n",
    "    ['Количество дней пропусков школы без разрешения','Числовой '], # - №10\n",
    "    ['Доброта и отзывчивость окружающих','Категориальный'], # - №11\n",
    "    ['Частота проблем взаимопонимания с родителями','Категориальный'], # - №12\n",
    "    ['Ощущение одинокости большую части (частота)','Категориальный'], # # - №13\n",
    "    ['Пропускали ли вы школу без разрешения (да/нет)','Категориальный'], # - №14\n",
    "    ['Масса вашего тела в школе была ниже нормы?','Категориальный'], # - №15\n",
    "    ['Масса вашего тела в школе была выше нормы?','Категориальный'], # - №16\n",
    "    ['Вы страдали ожирением?','Категориальный'], # - №17\n",
    "]\n"
   ]
  },
  {
   "attachments": {},
   "cell_type": "markdown",
   "metadata": {},
   "source": [
    "### §2.1 Статистика по датасету"
   ]
  },
  {
   "cell_type": "code",
   "execution_count": 83,
   "metadata": {},
   "outputs": [
    {
     "name": "stdout",
     "output_type": "stream",
     "text": [
      "|   Кол-во строк |   Кол-во столбцов |\n",
      "|----------------|-------------------|\n",
      "|          56981 |                18 |\n",
      "\n",
      "\n",
      "|   Номер | dtype   | Описание                                       | Тип            |   Кол-во пропусков |   Кол-во вариаций |\n",
      "|---------|---------|------------------------------------------------|----------------|--------------------|-------------------|\n",
      "|       1 | int64   | Номер ответа                                   | -              |                  0 |             56981 |\n",
      "|       2 | object  | В школе (за последние 12 месяцев)              | Категориальный |               1239 |                 2 |\n",
      "|       3 | object  | Вне школы (за последние 12 месяцев)            | Категориальный |                489 |                 2 |\n",
      "|       4 | object  | Кибербуллинг (последние 12 месяцев?)           | Категориальный |                571 |                 2 |\n",
      "|       5 | object  | Возраст респондента                            | Числовой       |                108 |                 8 |\n",
      "|       6 | object  | Пол респондента                                | Категориальный |                536 |                 2 |\n",
      "|       7 | object  | Количество физических атак                     | Числовой       |                240 |                 8 |\n",
      "|       8 | object  | Количество драк                                | Числовой       |                268 |                 8 |\n",
      "|       9 | object  | Ощущение одинокости                            | Категориальный |                366 |                 5 |\n",
      "|      10 | object  | Количество близких друзей                      | Числовой       |               1076 |                 4 |\n",
      "|      11 | object  | Количество дней пропусков школы без разрешения | Числовой       |               1864 |                 5 |\n",
      "|      12 | object  | Доброта и отзывчивость окружающих              | Категориальный |               1559 |                 5 |\n",
      "|      13 | object  | Частота проблем взаимопонимания с родителями   | Категориальный |               2373 |                 5 |\n",
      "|      14 | object  | Ощущение одинокости большую части (частота)    | Категориальный |                366 |                 2 |\n",
      "|      15 | object  | Пропускали ли вы школу без разрешения (да/нет) | Категориальный |               1864 |                 2 |\n",
      "|      16 | object  | Масса вашего тела в школе была ниже нормы?     | Категориальный |              20929 |                 2 |\n",
      "|      17 | object  | Масса вашего тела в школе была выше нормы?     | Категориальный |              20929 |                 2 |\n",
      "|      18 | object  | Вы страдали ожирением?                         | Категориальный |              20929 |                 2 |\n",
      "\n",
      "\n"
     ]
    }
   ],
   "source": [
    "\n",
    "def stats(data=bullying_df, desc=bull_desc, headers=('Номер','Название','Описание','Кат.','Числ.','Кол-во вариаций')):\n",
    "    headers=('Номер','dtype','Описание','Тип','Кол-во пропусков','Кол-во вариаций')\n",
    "    table = np.arange(data.shape[1]*len(headers))\n",
    "    table = table.reshape(len(headers),data.shape[1])\n",
    "\n",
    "    table = np.array([\n",
    "                [x for x in range(1,19)],\n",
    "                [d for d in data.dtypes],\n",
    "                [a[0] for a in desc],\n",
    "                [a[1] for a in desc],\n",
    "                [data[col].isna().sum() for col in data.columns],\n",
    "                [data[col].nunique() for col in data.columns]])\n",
    "\n",
    "    table = table.transpose()\n",
    "\n",
    "    print(\n",
    "        tabulate(\n",
    "            [data.shape],\n",
    "            headers=('Кол-во строк', 'Кол-во столбцов'),\n",
    "            tablefmt=\"github\"),\n",
    "        end='\\n\\n\\n'\n",
    "        )\n",
    "    \n",
    "    print(\n",
    "        tabulate(\n",
    "            table,\n",
    "            headers=headers,\n",
    "            tablefmt='github'\n",
    "        ),\n",
    "        end='\\n\\n\\n'\n",
    "        )\n",
    "\n",
    "stats()"
   ]
  },
  {
   "attachments": {},
   "cell_type": "markdown",
   "metadata": {},
   "source": [
    "### §2.2. Пропуски изначального датасета"
   ]
  },
  {
   "cell_type": "code",
   "execution_count": 84,
   "metadata": {},
   "outputs": [
    {
     "name": "stdout",
     "output_type": "stream",
     "text": [
      "Варианты колонки: record: [    1     2     3 ... 57093 57094 57095]\n",
      "Варианты колонки: bullied_on_school_property_in_past_12_months: ['Yes' 'No' None]\n",
      "Варианты колонки: bullied_not_on_school_property_in_past_12_months: ['Yes' 'No' None]\n",
      "Варианты колонки: cyber_bullied_in_past_12_months: [None 'No' 'Yes']\n",
      "Варианты колонки: custom_age: ['13 years old' '14 years old' '16 years old' '12 years old'\n",
      " '15 years old' '11 years old or younger' '17 years old' None\n",
      " '18 years old or older']\n",
      "Варианты колонки: sex: ['Female' 'Male' None]\n",
      "Варианты колонки: physically_attacked: ['0 times' '1 time' '12 or more times' '4 or 5 times' '2 or 3 times'\n",
      " '10 or 11 times' '8 or 9 times' '6 or 7 times' None]\n",
      "Варианты колонки: physical_fighting: ['0 times' '2 or 3 times' '1 time' '4 or 5 times' '6 or 7 times'\n",
      " '8 or 9 times' '10 or 11 times' None '12 or more times']\n",
      "Варианты колонки: felt_lonely: ['Always' 'Never' 'Rarely' 'Sometimes' 'Most of the time' None]\n",
      "Варианты колонки: close_friends: ['2' '3 or more' '0' None '1']\n",
      "Варианты колонки: miss_school_no_permission: ['10 or more days' '0 days' '6 to 9 days' '3 to 5 days' None '1 or 2 days']\n",
      "Варианты колонки: other_students_kind_and_helpful: ['Never' 'Sometimes' 'Most of the time' None 'Always' 'Rarely']\n",
      "Варианты колонки: parents_understand_problems: ['Always' None 'Most of the time' 'Never' 'Sometimes' 'Rarely']\n",
      "Варианты колонки: most_of_the_time_or_always_felt_lonely: ['Yes' 'No' None]\n",
      "Варианты колонки: missed_classes_or_school_without_permission: ['Yes' 'No' None]\n",
      "Варианты колонки: were_underweight: [None 'No' 'Yes']\n",
      "Варианты колонки: were_overweight: [None 'No' 'Yes']\n",
      "Варианты колонки: were_obese: [None 'No' 'Yes']\n"
     ]
    }
   ],
   "source": [
    "df_variants = []\n",
    "\n",
    "for col in bullying_df.columns:\n",
    "    print(f\"Варианты колонки: {col}: \", end='')\n",
    "    variants = bullying_df[col].unique()\n",
    "    print(variants)"
   ]
  },
  {
   "attachments": {},
   "cell_type": "markdown",
   "metadata": {},
   "source": [
    "### 2.3 В итоге "
   ]
  },
  {
   "attachments": {},
   "cell_type": "markdown",
   "metadata": {},
   "source": [
    "Датасет содержит большое количество пропусков, что видно из пункта 2.2. "
   ]
  },
  {
   "cell_type": "code",
   "execution_count": 130,
   "metadata": {},
   "outputs": [
    {
     "data": {
      "application/vnd.plotly.v1+json": {
       "config": {
        "plotlyServerURL": "https://plot.ly"
       },
       "data": [
        {
         "alignmentgroup": "True",
         "hovertemplate": "variable=0<br>value=%{x}<br>index=%{y}<extra></extra>",
         "legendgroup": "0",
         "marker": {
          "color": "#636efa",
          "pattern": {
           "shape": ""
          }
         },
         "name": "0",
         "offsetgroup": "0",
         "orientation": "h",
         "showlegend": true,
         "textposition": "auto",
         "texttemplate": "%{x:.2s}",
         "type": "bar",
         "x": [
          0,
          1239,
          489,
          571,
          108,
          536,
          240,
          268,
          366,
          1076,
          1864,
          1559,
          2373,
          366,
          1864,
          20929,
          20929,
          20929
         ],
         "xaxis": "x",
         "y": [
          "record",
          "bullied_on_school_property_in_past_12_months",
          "bullied_not_on_school_property_in_past_12_months",
          "cyber_bullied_in_past_12_months",
          "custom_age",
          "sex",
          "physically_attacked",
          "physical_fighting",
          "felt_lonely",
          "close_friends",
          "miss_school_no_permission",
          "other_students_kind_and_helpful",
          "parents_understand_problems",
          "most_of_the_time_or_always_felt_lonely",
          "missed_classes_or_school_without_permission",
          "were_underweight",
          "were_overweight",
          "were_obese"
         ],
         "yaxis": "y"
        }
       ],
       "layout": {
        "barmode": "relative",
        "legend": {
         "title": {
          "text": "variable"
         },
         "tracegroupgap": 0
        },
        "margin": {
         "t": 60
        },
        "template": {
         "data": {
          "bar": [
           {
            "error_x": {
             "color": "#2a3f5f"
            },
            "error_y": {
             "color": "#2a3f5f"
            },
            "marker": {
             "line": {
              "color": "#E5ECF6",
              "width": 0.5
             },
             "pattern": {
              "fillmode": "overlay",
              "size": 10,
              "solidity": 0.2
             }
            },
            "type": "bar"
           }
          ],
          "barpolar": [
           {
            "marker": {
             "line": {
              "color": "#E5ECF6",
              "width": 0.5
             },
             "pattern": {
              "fillmode": "overlay",
              "size": 10,
              "solidity": 0.2
             }
            },
            "type": "barpolar"
           }
          ],
          "carpet": [
           {
            "aaxis": {
             "endlinecolor": "#2a3f5f",
             "gridcolor": "white",
             "linecolor": "white",
             "minorgridcolor": "white",
             "startlinecolor": "#2a3f5f"
            },
            "baxis": {
             "endlinecolor": "#2a3f5f",
             "gridcolor": "white",
             "linecolor": "white",
             "minorgridcolor": "white",
             "startlinecolor": "#2a3f5f"
            },
            "type": "carpet"
           }
          ],
          "choropleth": [
           {
            "colorbar": {
             "outlinewidth": 0,
             "ticks": ""
            },
            "type": "choropleth"
           }
          ],
          "contour": [
           {
            "colorbar": {
             "outlinewidth": 0,
             "ticks": ""
            },
            "colorscale": [
             [
              0,
              "#0d0887"
             ],
             [
              0.1111111111111111,
              "#46039f"
             ],
             [
              0.2222222222222222,
              "#7201a8"
             ],
             [
              0.3333333333333333,
              "#9c179e"
             ],
             [
              0.4444444444444444,
              "#bd3786"
             ],
             [
              0.5555555555555556,
              "#d8576b"
             ],
             [
              0.6666666666666666,
              "#ed7953"
             ],
             [
              0.7777777777777778,
              "#fb9f3a"
             ],
             [
              0.8888888888888888,
              "#fdca26"
             ],
             [
              1,
              "#f0f921"
             ]
            ],
            "type": "contour"
           }
          ],
          "contourcarpet": [
           {
            "colorbar": {
             "outlinewidth": 0,
             "ticks": ""
            },
            "type": "contourcarpet"
           }
          ],
          "heatmap": [
           {
            "colorbar": {
             "outlinewidth": 0,
             "ticks": ""
            },
            "colorscale": [
             [
              0,
              "#0d0887"
             ],
             [
              0.1111111111111111,
              "#46039f"
             ],
             [
              0.2222222222222222,
              "#7201a8"
             ],
             [
              0.3333333333333333,
              "#9c179e"
             ],
             [
              0.4444444444444444,
              "#bd3786"
             ],
             [
              0.5555555555555556,
              "#d8576b"
             ],
             [
              0.6666666666666666,
              "#ed7953"
             ],
             [
              0.7777777777777778,
              "#fb9f3a"
             ],
             [
              0.8888888888888888,
              "#fdca26"
             ],
             [
              1,
              "#f0f921"
             ]
            ],
            "type": "heatmap"
           }
          ],
          "heatmapgl": [
           {
            "colorbar": {
             "outlinewidth": 0,
             "ticks": ""
            },
            "colorscale": [
             [
              0,
              "#0d0887"
             ],
             [
              0.1111111111111111,
              "#46039f"
             ],
             [
              0.2222222222222222,
              "#7201a8"
             ],
             [
              0.3333333333333333,
              "#9c179e"
             ],
             [
              0.4444444444444444,
              "#bd3786"
             ],
             [
              0.5555555555555556,
              "#d8576b"
             ],
             [
              0.6666666666666666,
              "#ed7953"
             ],
             [
              0.7777777777777778,
              "#fb9f3a"
             ],
             [
              0.8888888888888888,
              "#fdca26"
             ],
             [
              1,
              "#f0f921"
             ]
            ],
            "type": "heatmapgl"
           }
          ],
          "histogram": [
           {
            "marker": {
             "pattern": {
              "fillmode": "overlay",
              "size": 10,
              "solidity": 0.2
             }
            },
            "type": "histogram"
           }
          ],
          "histogram2d": [
           {
            "colorbar": {
             "outlinewidth": 0,
             "ticks": ""
            },
            "colorscale": [
             [
              0,
              "#0d0887"
             ],
             [
              0.1111111111111111,
              "#46039f"
             ],
             [
              0.2222222222222222,
              "#7201a8"
             ],
             [
              0.3333333333333333,
              "#9c179e"
             ],
             [
              0.4444444444444444,
              "#bd3786"
             ],
             [
              0.5555555555555556,
              "#d8576b"
             ],
             [
              0.6666666666666666,
              "#ed7953"
             ],
             [
              0.7777777777777778,
              "#fb9f3a"
             ],
             [
              0.8888888888888888,
              "#fdca26"
             ],
             [
              1,
              "#f0f921"
             ]
            ],
            "type": "histogram2d"
           }
          ],
          "histogram2dcontour": [
           {
            "colorbar": {
             "outlinewidth": 0,
             "ticks": ""
            },
            "colorscale": [
             [
              0,
              "#0d0887"
             ],
             [
              0.1111111111111111,
              "#46039f"
             ],
             [
              0.2222222222222222,
              "#7201a8"
             ],
             [
              0.3333333333333333,
              "#9c179e"
             ],
             [
              0.4444444444444444,
              "#bd3786"
             ],
             [
              0.5555555555555556,
              "#d8576b"
             ],
             [
              0.6666666666666666,
              "#ed7953"
             ],
             [
              0.7777777777777778,
              "#fb9f3a"
             ],
             [
              0.8888888888888888,
              "#fdca26"
             ],
             [
              1,
              "#f0f921"
             ]
            ],
            "type": "histogram2dcontour"
           }
          ],
          "mesh3d": [
           {
            "colorbar": {
             "outlinewidth": 0,
             "ticks": ""
            },
            "type": "mesh3d"
           }
          ],
          "parcoords": [
           {
            "line": {
             "colorbar": {
              "outlinewidth": 0,
              "ticks": ""
             }
            },
            "type": "parcoords"
           }
          ],
          "pie": [
           {
            "automargin": true,
            "type": "pie"
           }
          ],
          "scatter": [
           {
            "fillpattern": {
             "fillmode": "overlay",
             "size": 10,
             "solidity": 0.2
            },
            "type": "scatter"
           }
          ],
          "scatter3d": [
           {
            "line": {
             "colorbar": {
              "outlinewidth": 0,
              "ticks": ""
             }
            },
            "marker": {
             "colorbar": {
              "outlinewidth": 0,
              "ticks": ""
             }
            },
            "type": "scatter3d"
           }
          ],
          "scattercarpet": [
           {
            "marker": {
             "colorbar": {
              "outlinewidth": 0,
              "ticks": ""
             }
            },
            "type": "scattercarpet"
           }
          ],
          "scattergeo": [
           {
            "marker": {
             "colorbar": {
              "outlinewidth": 0,
              "ticks": ""
             }
            },
            "type": "scattergeo"
           }
          ],
          "scattergl": [
           {
            "marker": {
             "colorbar": {
              "outlinewidth": 0,
              "ticks": ""
             }
            },
            "type": "scattergl"
           }
          ],
          "scattermapbox": [
           {
            "marker": {
             "colorbar": {
              "outlinewidth": 0,
              "ticks": ""
             }
            },
            "type": "scattermapbox"
           }
          ],
          "scatterpolar": [
           {
            "marker": {
             "colorbar": {
              "outlinewidth": 0,
              "ticks": ""
             }
            },
            "type": "scatterpolar"
           }
          ],
          "scatterpolargl": [
           {
            "marker": {
             "colorbar": {
              "outlinewidth": 0,
              "ticks": ""
             }
            },
            "type": "scatterpolargl"
           }
          ],
          "scatterternary": [
           {
            "marker": {
             "colorbar": {
              "outlinewidth": 0,
              "ticks": ""
             }
            },
            "type": "scatterternary"
           }
          ],
          "surface": [
           {
            "colorbar": {
             "outlinewidth": 0,
             "ticks": ""
            },
            "colorscale": [
             [
              0,
              "#0d0887"
             ],
             [
              0.1111111111111111,
              "#46039f"
             ],
             [
              0.2222222222222222,
              "#7201a8"
             ],
             [
              0.3333333333333333,
              "#9c179e"
             ],
             [
              0.4444444444444444,
              "#bd3786"
             ],
             [
              0.5555555555555556,
              "#d8576b"
             ],
             [
              0.6666666666666666,
              "#ed7953"
             ],
             [
              0.7777777777777778,
              "#fb9f3a"
             ],
             [
              0.8888888888888888,
              "#fdca26"
             ],
             [
              1,
              "#f0f921"
             ]
            ],
            "type": "surface"
           }
          ],
          "table": [
           {
            "cells": {
             "fill": {
              "color": "#EBF0F8"
             },
             "line": {
              "color": "white"
             }
            },
            "header": {
             "fill": {
              "color": "#C8D4E3"
             },
             "line": {
              "color": "white"
             }
            },
            "type": "table"
           }
          ]
         },
         "layout": {
          "annotationdefaults": {
           "arrowcolor": "#2a3f5f",
           "arrowhead": 0,
           "arrowwidth": 1
          },
          "autotypenumbers": "strict",
          "coloraxis": {
           "colorbar": {
            "outlinewidth": 0,
            "ticks": ""
           }
          },
          "colorscale": {
           "diverging": [
            [
             0,
             "#8e0152"
            ],
            [
             0.1,
             "#c51b7d"
            ],
            [
             0.2,
             "#de77ae"
            ],
            [
             0.3,
             "#f1b6da"
            ],
            [
             0.4,
             "#fde0ef"
            ],
            [
             0.5,
             "#f7f7f7"
            ],
            [
             0.6,
             "#e6f5d0"
            ],
            [
             0.7,
             "#b8e186"
            ],
            [
             0.8,
             "#7fbc41"
            ],
            [
             0.9,
             "#4d9221"
            ],
            [
             1,
             "#276419"
            ]
           ],
           "sequential": [
            [
             0,
             "#0d0887"
            ],
            [
             0.1111111111111111,
             "#46039f"
            ],
            [
             0.2222222222222222,
             "#7201a8"
            ],
            [
             0.3333333333333333,
             "#9c179e"
            ],
            [
             0.4444444444444444,
             "#bd3786"
            ],
            [
             0.5555555555555556,
             "#d8576b"
            ],
            [
             0.6666666666666666,
             "#ed7953"
            ],
            [
             0.7777777777777778,
             "#fb9f3a"
            ],
            [
             0.8888888888888888,
             "#fdca26"
            ],
            [
             1,
             "#f0f921"
            ]
           ],
           "sequentialminus": [
            [
             0,
             "#0d0887"
            ],
            [
             0.1111111111111111,
             "#46039f"
            ],
            [
             0.2222222222222222,
             "#7201a8"
            ],
            [
             0.3333333333333333,
             "#9c179e"
            ],
            [
             0.4444444444444444,
             "#bd3786"
            ],
            [
             0.5555555555555556,
             "#d8576b"
            ],
            [
             0.6666666666666666,
             "#ed7953"
            ],
            [
             0.7777777777777778,
             "#fb9f3a"
            ],
            [
             0.8888888888888888,
             "#fdca26"
            ],
            [
             1,
             "#f0f921"
            ]
           ]
          },
          "colorway": [
           "#636efa",
           "#EF553B",
           "#00cc96",
           "#ab63fa",
           "#FFA15A",
           "#19d3f3",
           "#FF6692",
           "#B6E880",
           "#FF97FF",
           "#FECB52"
          ],
          "font": {
           "color": "#2a3f5f"
          },
          "geo": {
           "bgcolor": "white",
           "lakecolor": "white",
           "landcolor": "#E5ECF6",
           "showlakes": true,
           "showland": true,
           "subunitcolor": "white"
          },
          "hoverlabel": {
           "align": "left"
          },
          "hovermode": "closest",
          "mapbox": {
           "style": "light"
          },
          "paper_bgcolor": "white",
          "plot_bgcolor": "#E5ECF6",
          "polar": {
           "angularaxis": {
            "gridcolor": "white",
            "linecolor": "white",
            "ticks": ""
           },
           "bgcolor": "#E5ECF6",
           "radialaxis": {
            "gridcolor": "white",
            "linecolor": "white",
            "ticks": ""
           }
          },
          "scene": {
           "xaxis": {
            "backgroundcolor": "#E5ECF6",
            "gridcolor": "white",
            "gridwidth": 2,
            "linecolor": "white",
            "showbackground": true,
            "ticks": "",
            "zerolinecolor": "white"
           },
           "yaxis": {
            "backgroundcolor": "#E5ECF6",
            "gridcolor": "white",
            "gridwidth": 2,
            "linecolor": "white",
            "showbackground": true,
            "ticks": "",
            "zerolinecolor": "white"
           },
           "zaxis": {
            "backgroundcolor": "#E5ECF6",
            "gridcolor": "white",
            "gridwidth": 2,
            "linecolor": "white",
            "showbackground": true,
            "ticks": "",
            "zerolinecolor": "white"
           }
          },
          "shapedefaults": {
           "line": {
            "color": "#2a3f5f"
           }
          },
          "ternary": {
           "aaxis": {
            "gridcolor": "white",
            "linecolor": "white",
            "ticks": ""
           },
           "baxis": {
            "gridcolor": "white",
            "linecolor": "white",
            "ticks": ""
           },
           "bgcolor": "#E5ECF6",
           "caxis": {
            "gridcolor": "white",
            "linecolor": "white",
            "ticks": ""
           }
          },
          "title": {
           "x": 0.05
          },
          "xaxis": {
           "automargin": true,
           "gridcolor": "white",
           "linecolor": "white",
           "ticks": "",
           "title": {
            "standoff": 15
           },
           "zerolinecolor": "white",
           "zerolinewidth": 2
          },
          "yaxis": {
           "automargin": true,
           "gridcolor": "white",
           "linecolor": "white",
           "ticks": "",
           "title": {
            "standoff": 15
           },
           "zerolinecolor": "white",
           "zerolinewidth": 2
          }
         }
        },
        "xaxis": {
         "anchor": "y",
         "domain": [
          0,
          1
         ],
         "range": [
          0,
          56000
         ],
         "title": {
          "text": "value"
         }
        },
        "yaxis": {
         "anchor": "x",
         "domain": [
          0,
          1
         ],
         "title": {
          "text": "index"
         }
        }
       }
      }
     },
     "metadata": {},
     "output_type": "display_data"
    }
   ],
   "source": [
    "import plotly.express as px\n",
    "\n",
    "bullying_df_gaps_count = bullying_df.isna().sum()\n",
    "bullying_df_gaps_count.head()\n",
    "\n",
    "fig = px.bar(bullying_df_gaps_count, orientation='h',range_x=[0,56000],text_auto='.2s')\n",
    "\n",
    "fig.show()"
   ]
  },
  {
   "attachments": {},
   "cell_type": "markdown",
   "metadata": {},
   "source": [
    "## §3. Datenluecken Loeschung"
   ]
  },
  {
   "attachments": {},
   "cell_type": "markdown",
   "metadata": {},
   "source": [
    "Удалим все пропуски в данных с помощью"
   ]
  },
  {
   "cell_type": "code",
   "execution_count": 85,
   "metadata": {},
   "outputs": [
    {
     "name": "stdout",
     "output_type": "stream",
     "text": [
      "|   Кол-во строк |   Кол-во столбцов |\n",
      "|----------------|-------------------|\n",
      "|          56981 |                18 |\n",
      "\n",
      "\n",
      "|   Номер | dtype   | Описание                                       | Тип            |   Кол-во пропусков |   Кол-во вариаций |\n",
      "|---------|---------|------------------------------------------------|----------------|--------------------|-------------------|\n",
      "|       1 | int64   | Номер ответа                                   | -              |                  0 |             56981 |\n",
      "|       2 | object  | В школе (за последние 12 месяцев)              | Категориальный |               1239 |                 2 |\n",
      "|       3 | object  | Вне школы (за последние 12 месяцев)            | Категориальный |                489 |                 2 |\n",
      "|       4 | object  | Кибербуллинг (последние 12 месяцев?)           | Категориальный |                571 |                 2 |\n",
      "|       5 | object  | Возраст респондента                            | Числовой       |                108 |                 8 |\n",
      "|       6 | object  | Пол респондента                                | Категориальный |                536 |                 2 |\n",
      "|       7 | object  | Количество физических атак                     | Числовой       |                240 |                 8 |\n",
      "|       8 | object  | Количество драк                                | Числовой       |                268 |                 8 |\n",
      "|       9 | object  | Ощущение одинокости                            | Категориальный |                366 |                 5 |\n",
      "|      10 | object  | Количество близких друзей                      | Числовой       |               1076 |                 4 |\n",
      "|      11 | object  | Количество дней пропусков школы без разрешения | Числовой       |               1864 |                 5 |\n",
      "|      12 | object  | Доброта и отзывчивость окружающих              | Категориальный |               1559 |                 5 |\n",
      "|      13 | object  | Частота проблем взаимопонимания с родителями   | Категориальный |               2373 |                 5 |\n",
      "|      14 | object  | Ощущение одинокости большую части (частота)    | Категориальный |                366 |                 2 |\n",
      "|      15 | object  | Пропускали ли вы школу без разрешения (да/нет) | Категориальный |               1864 |                 2 |\n",
      "|      16 | object  | Масса вашего тела в школе была ниже нормы?     | Категориальный |              20929 |                 2 |\n",
      "|      17 | object  | Масса вашего тела в школе была выше нормы?     | Категориальный |              20929 |                 2 |\n",
      "|      18 | object  | Вы страдали ожирением?                         | Категориальный |              20929 |                 2 |\n",
      "\n",
      "\n"
     ]
    }
   ],
   "source": [
    "def normalized_source(df=bullying_df):\n",
    "    return df\n",
    "\n",
    "stats(data=normalized_source())\n"
   ]
  }
 ],
 "metadata": {
  "kernelspec": {
   "display_name": "snowflakes",
   "language": "python",
   "name": "python3"
  },
  "language_info": {
   "codemirror_mode": {
    "name": "ipython",
    "version": 3
   },
   "file_extension": ".py",
   "mimetype": "text/x-python",
   "name": "python",
   "nbconvert_exporter": "python",
   "pygments_lexer": "ipython3",
   "version": "3.10.9"
  },
  "orig_nbformat": 4
 },
 "nbformat": 4,
 "nbformat_minor": 2
}
