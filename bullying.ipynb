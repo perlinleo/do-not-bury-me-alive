{
 "cells": [
  {
   "attachments": {},
   "cell_type": "markdown",
   "metadata": {},
   "source": [
    "[![Kaggle link](https://img.shields.io/badge/изначальный%20датасет-Открыть-orange?style=social&logo=kaggle)](https://www.kaggle.com/datasets/leomartinelli/bullying-in-schools)\n"
   ]
  },
  {
   "attachments": {},
   "cell_type": "markdown",
   "metadata": {},
   "source": [
    "# 1. Устранение пропусков в данных"
   ]
  },
  {
   "cell_type": "code",
   "execution_count": 129,
   "metadata": {},
   "outputs": [],
   "source": [
    "import pandas as pd\n",
    "from tabulate import tabulate\n",
    "import numpy as np\n",
    "%matplotlib inline "
   ]
  },
  {
   "cell_type": "code",
   "execution_count": 130,
   "metadata": {},
   "outputs": [
    {
     "data": {
      "text/plain": [
       "(56981, 18)"
      ]
     },
     "execution_count": 130,
     "metadata": {},
     "output_type": "execute_result"
    }
   ],
   "source": [
    "data.shape"
   ]
  },
  {
   "cell_type": "code",
   "execution_count": 131,
   "metadata": {},
   "outputs": [],
   "source": [
    "df_csv_path = 'data/Bullying_2018_RAW.csv'\n",
    "data = pd.read_csv(df_csv_path) "
   ]
  },
  {
   "cell_type": "code",
   "execution_count": 132,
   "metadata": {},
   "outputs": [
    {
     "name": "stdout",
     "output_type": "stream",
     "text": [
      "|   Строки |   Столбцы |\n",
      "|----------|-----------|\n",
      "|    56981 |        18 |\n"
     ]
    }
   ],
   "source": [
    "print(tabulate([data.shape],headers=('Строки', 'Столбцы'),tablefmt=\"github\"))"
   ]
  },
  {
   "attachments": {},
   "cell_type": "markdown",
   "metadata": {},
   "source": [
    "## Описание датасета"
   ]
  },
  {
   "cell_type": "code",
   "execution_count": 133,
   "metadata": {},
   "outputs": [],
   "source": [
    "\n",
    "headers=('Номер','Название','Описание','Кат.','Числ.','Кол-во вариаций')\n",
    "\n",
    "column_desc = [\n",
    "    ['Номер ответа','-'],\n",
    "    ['В школе (за последние 12 месяцев)','Cat.'], # - №2\n",
    "    ['Вне школы (за последние 12 месяцев)','Cat.'], # - №3\n",
    "    ['Кибербуллинг (последние 12 месяцев?)','Cat.'], # - №3\n",
    "    ['Возраст респондента','Num.'], # - №4\n",
    "    ['Пол респондента','Cat.'], # - №5\n",
    "    ['Количество физических атак','Num.'], # - №6\n",
    "    ['Количество драк','Num.'], # # - №7\n",
    "    ['Ощущение одинокости','Cat.'], # # - №8\n",
    "    ['Количество близких друзей','Num.'], # - №9\n",
    "    ['Количество дней пропусков школы без разрешения','Num'], # - №10\n",
    "    ['Доброта и отзывчивость окружающих','Cat.'], # - №11\n",
    "    ['Частота проблем взаимопонимания с родителями','Cat.'], # - №12\n",
    "    ['Ощущение одинокости большую части (частота)','Cat.'], # # - №13\n",
    "    ['Пропускали ли вы школу без разрешения (да/нет)','Cat.'], # - №14\n",
    "    ['Масса вашего тела в школе была ниже нормы?','Cat.'], # - №15\n",
    "    ['Масса вашего тела в школе была выше нормы?','Cat.'], # - №16\n",
    "    ['Вы страдали ожирением?','Cat.'], # - №17\n",
    "]\n"
   ]
  },
  {
   "cell_type": "code",
   "execution_count": 134,
   "metadata": {},
   "outputs": [
    {
     "data": {
      "text/plain": [
       "['Номер ответа',\n",
       " 'В школе (за последние 12 месяцев)',\n",
       " 'Вне школы (за последние 12 месяцев)',\n",
       " 'Кибербуллинг (последние 12 месяцев?)',\n",
       " 'Возраст респондента',\n",
       " 'Пол респондента',\n",
       " 'Количество физических атак',\n",
       " 'Количество драк',\n",
       " 'Ощущение одинокости',\n",
       " 'Количество близких друзей',\n",
       " 'Количество дней пропусков школы без разрешения',\n",
       " 'Доброта и отзывчивость окружающих',\n",
       " 'Частота проблем взаимопонимания с родителями',\n",
       " 'Ощущение одинокости большую части (частота)',\n",
       " 'Пропускали ли вы школу без разрешения (да/нет)',\n",
       " 'Масса вашего тела в школе была ниже нормы?',\n",
       " 'Масса вашего тела в школе была выше нормы?',\n",
       " 'Вы страдали ожирением?']"
      ]
     },
     "execution_count": 134,
     "metadata": {},
     "output_type": "execute_result"
    }
   ],
   "source": [
    "[a[0] for a in column_desc]"
   ]
  },
  {
   "cell_type": "code",
   "execution_count": 135,
   "metadata": {},
   "outputs": [
    {
     "data": {
      "text/plain": [
       "['-',\n",
       " 'Cat.',\n",
       " 'Cat.',\n",
       " 'Cat.',\n",
       " 'Num.',\n",
       " 'Cat.',\n",
       " 'Num.',\n",
       " 'Num.',\n",
       " 'Cat.',\n",
       " 'Num.',\n",
       " 'Num',\n",
       " 'Cat.',\n",
       " 'Cat.',\n",
       " 'Cat.',\n",
       " 'Cat.',\n",
       " 'Cat.',\n",
       " 'Cat.',\n",
       " 'Cat.']"
      ]
     },
     "execution_count": 135,
     "metadata": {},
     "output_type": "execute_result"
    }
   ],
   "source": [
    "[a[1] for a in column_desc]"
   ]
  },
  {
   "cell_type": "code",
   "execution_count": 136,
   "metadata": {},
   "outputs": [
    {
     "data": {
      "text/plain": [
       "[56981, 3, 3, 3, 9, 3, 9, 9, 6, 5, 6, 6, 6, 3, 3, 3, 3, 3]"
      ]
     },
     "execution_count": 136,
     "metadata": {},
     "output_type": "execute_result"
    }
   ],
   "source": [
    "[data[col].nunique() for col in data.columns]"
   ]
  },
  {
   "cell_type": "code",
   "execution_count": 154,
   "metadata": {},
   "outputs": [
    {
     "name": "stdout",
     "output_type": "stream",
     "text": [
      "|   Номер | Название                                         | Описание                                       | Тип   |   Кол-во вариаций |\n",
      "|---------|--------------------------------------------------|------------------------------------------------|-------|-------------------|\n",
      "|       1 | record                                           | Номер ответа                                   | -     |             56981 |\n",
      "|       2 | Bullied_on_school_property_in_past_12_months     | В школе (за последние 12 месяцев)              | Cat.  |                 3 |\n",
      "|       3 | Bullied_not_on_school_property_in_past_12_months | Вне школы (за последние 12 месяцев)            | Cat.  |                 3 |\n",
      "|       4 | Cyber_bullied_in_past_12_months                  | Кибербуллинг (последние 12 месяцев?)           | Cat.  |                 3 |\n",
      "|       5 | Custom_Age                                       | Возраст респондента                            | Num.  |                 9 |\n",
      "|       6 | Sex                                              | Пол респондента                                | Cat.  |                 3 |\n",
      "|       7 | Physically_attacked                              | Количество физических атак                     | Num.  |                 9 |\n",
      "|       8 | Physical_fighting                                | Количество драк                                | Num.  |                 9 |\n",
      "|       9 | Felt_lonely                                      | Ощущение одинокости                            | Cat.  |                 6 |\n",
      "|      10 | Close_friends                                    | Количество близких друзей                      | Num.  |                 5 |\n",
      "|      11 | Miss_school_no_permission                        | Количество дней пропусков школы без разрешения | Num   |                 6 |\n",
      "|      12 | Other_students_kind_and_helpful                  | Доброта и отзывчивость окружающих              | Cat.  |                 6 |\n",
      "|      13 | Parents_understand_problems                      | Частота проблем взаимопонимания с родителями   | Cat.  |                 6 |\n",
      "|      14 | Most_of_the_time_or_always_felt_lonely           | Ощущение одинокости большую части (частота)    | Cat.  |                 3 |\n",
      "|      15 | Missed_classes_or_school_without_permission      | Пропускали ли вы школу без разрешения (да/нет) | Cat.  |                 3 |\n",
      "|      16 | Were_underweight                                 | Масса вашего тела в школе была ниже нормы?     | Cat.  |                 3 |\n",
      "|      17 | Were_overweight                                  | Масса вашего тела в школе была выше нормы?     | Cat.  |                 3 |\n",
      "|      18 | Were_obese                                       | Вы страдали ожирением?                         | Cat.  |                 3 |\n"
     ]
    }
   ],
   "source": [
    "\n",
    "headers=('Номер','Название','Описание','Тип','Кол-во вариаций')\n",
    "\n",
    "table = np.arange(data.shape[1]*len(headers))\n",
    "table = table.reshape(len(headers),data.shape[1])\n",
    "\n",
    "table = np.array([[x for x in range(1,19)],\n",
    "            data.columns,\n",
    "            [a[0] for a in column_desc],\n",
    "            [a[1] for a in column_desc],\n",
    "            [data[col].nunique() for col in data.columns]])\n",
    "\n",
    "table = table.transpose()\n",
    "\n",
    "print(tabulate(table,headers=headers,tablefmt='github'))"
   ]
  },
  {
   "cell_type": "code",
   "execution_count": 138,
   "metadata": {},
   "outputs": [
    {
     "ename": "TypeError",
     "evalue": "tabulate() got multiple values for argument 'headers'",
     "output_type": "error",
     "traceback": [
      "\u001b[0;31m---------------------------------------------------------------------------\u001b[0m",
      "\u001b[0;31mTypeError\u001b[0m                                 Traceback (most recent call last)",
      "Cell \u001b[0;32mIn[138], line 4\u001b[0m\n\u001b[1;32m      1\u001b[0m headers\u001b[39m=\u001b[39m(\u001b[39m'\u001b[39m\u001b[39mНомер\u001b[39m\u001b[39m'\u001b[39m,\u001b[39m'\u001b[39m\u001b[39mНазвание\u001b[39m\u001b[39m'\u001b[39m,\u001b[39m'\u001b[39m\u001b[39mОписание\u001b[39m\u001b[39m'\u001b[39m,\u001b[39m'\u001b[39m\u001b[39mТип\u001b[39m\u001b[39m'\u001b[39m,\u001b[39m'\u001b[39m\u001b[39mКол-во вариаций\u001b[39m\u001b[39m'\u001b[39m)\n\u001b[1;32m      3\u001b[0m \u001b[39mprint\u001b[39m(\n\u001b[0;32m----> 4\u001b[0m     tabulate(\n\u001b[1;32m      5\u001b[0m     \n\u001b[1;32m      6\u001b[0m             \u001b[39mrange\u001b[39;49m(\u001b[39m1\u001b[39;49m,\u001b[39m19\u001b[39;49m),\n\u001b[1;32m      7\u001b[0m             data\u001b[39m.\u001b[39;49mcolumns,\n\u001b[1;32m      8\u001b[0m             [a[\u001b[39m0\u001b[39;49m] \u001b[39mfor\u001b[39;49;00m a \u001b[39min\u001b[39;49;00m column_desc],\n\u001b[1;32m      9\u001b[0m             [a[\u001b[39m1\u001b[39;49m] \u001b[39mfor\u001b[39;49;00m a \u001b[39min\u001b[39;49;00m column_desc],\n\u001b[1;32m     10\u001b[0m             [data[col]\u001b[39m.\u001b[39;49mnunique() \u001b[39mfor\u001b[39;49;00m col \u001b[39min\u001b[39;49;00m data\u001b[39m.\u001b[39;49mcolumns],\n\u001b[1;32m     11\u001b[0m         headers\u001b[39m=\u001b[39;49m(\u001b[39m'\u001b[39;49m\u001b[39mНомер\u001b[39;49m\u001b[39m'\u001b[39;49m,\u001b[39m'\u001b[39;49m\u001b[39mНазвание\u001b[39;49m\u001b[39m'\u001b[39;49m,\u001b[39m'\u001b[39;49m\u001b[39mОписание\u001b[39;49m\u001b[39m'\u001b[39;49m,\u001b[39m'\u001b[39;49m\u001b[39mТип\u001b[39;49m\u001b[39m'\u001b[39;49m,\u001b[39m'\u001b[39;49m\u001b[39mКол-во вариаций\u001b[39;49m\u001b[39m'\u001b[39;49m)\n\u001b[1;32m     12\u001b[0m     )\n\u001b[1;32m     13\u001b[0m )\n",
      "\u001b[0;31mTypeError\u001b[0m: tabulate() got multiple values for argument 'headers'"
     ]
    }
   ],
   "source": [
    "\n",
    "print(\n",
    "    tabulate(\n",
    "    \n",
    "            range(1,19),\n",
    "            data.columns,\n",
    "            [a[0] for a in column_desc],\n",
    "            [a[1] for a in column_desc],\n",
    "            [data[col].nunique() for col in data.columns],\n",
    "        headers=('Номер','Название','Описание','Тип','Кол-во вариаций')\n",
    "    )\n",
    ")"
   ]
  }
 ],
 "metadata": {
  "kernelspec": {
   "display_name": "snowflakes",
   "language": "python",
   "name": "python3"
  },
  "language_info": {
   "codemirror_mode": {
    "name": "ipython",
    "version": 3
   },
   "file_extension": ".py",
   "mimetype": "text/x-python",
   "name": "python",
   "nbconvert_exporter": "python",
   "pygments_lexer": "ipython3",
   "version": "3.10.9"
  },
  "orig_nbformat": 4
 },
 "nbformat": 4,
 "nbformat_minor": 2
}
