{
 "cells": [
  {
   "attachments": {},
   "cell_type": "markdown",
   "metadata": {},
   "source": [
    "[![Kaggle link](https://img.shields.io/badge/изначальный%20датасет-Открыть-orange?style=social&logo=kaggle)](https://www.kaggle.com/datasets/leomartinelli/bullying-in-schools)\n"
   ]
  },
  {
   "attachments": {},
   "cell_type": "markdown",
   "metadata": {},
   "source": [
    "# §1. Зависимости"
   ]
  },
  {
   "cell_type": "code",
   "execution_count": 317,
   "metadata": {},
   "outputs": [],
   "source": [
    "import pandas as pd\n",
    "from tabulate import tabulate\n",
    "import numpy as np\n",
    "%matplotlib inline "
   ]
  },
  {
   "attachments": {},
   "cell_type": "markdown",
   "metadata": {},
   "source": [
    "## §2. Описание изначального датасета"
   ]
  },
  {
   "cell_type": "code",
   "execution_count": 318,
   "metadata": {},
   "outputs": [
    {
     "data": {
      "text/plain": [
       "(56981, 18)"
      ]
     },
     "execution_count": 318,
     "metadata": {},
     "output_type": "execute_result"
    }
   ],
   "source": [
    "data.shape"
   ]
  },
  {
   "cell_type": "code",
   "execution_count": 319,
   "metadata": {},
   "outputs": [],
   "source": [
    "df_csv_path = '/Users/blacksnow/bmstu/ММО/Лабораторные работы/datasets/Bullying_2018_raw.csv'\n",
    "bullying_df = pd.read_csv(df_csv_path) "
   ]
  },
  {
   "cell_type": "code",
   "execution_count": 320,
   "metadata": {},
   "outputs": [],
   "source": [
    "\n",
    "\n",
    "bull_desc = [\n",
    "    ['Номер ответа','-'],\n",
    "    ['В школе (за последние 12 месяцев)','Категориальный'], # - №2\n",
    "    ['Вне школы (за последние 12 месяцев)','Категориальный'], # - №3\n",
    "    ['Кибербуллинг (последние 12 месяцев?)','Категориальный'], # - №3\n",
    "    ['Возраст респондента','Числовой'], # - №4\n",
    "    ['Пол респондента','Категориальный'], # - №5\n",
    "    ['Количество физических атак','Числовой'], # - №6\n",
    "    ['Количество драк','Числовой'], # # - №7\n",
    "    ['Ощущение одинокости','Категориальный'], # # - №8\n",
    "    ['Количество близких друзей','Числовой'], # - №9\n",
    "    ['Количество дней пропусков школы без разрешения','Числовой '], # - №10\n",
    "    ['Доброта и отзывчивость окружающих','Категориальный'], # - №11\n",
    "    ['Частота проблем взаимопонимания с родителями','Категориальный'], # - №12\n",
    "    ['Ощущение одинокости большую части (частота)','Категориальный'], # # - №13\n",
    "    ['Пропускали ли вы школу без разрешения (да/нет)','Категориальный'], # - №14\n",
    "    ['Масса вашего тела в школе была ниже нормы?','Категориальный'], # - №15\n",
    "    ['Масса вашего тела в школе была выше нормы?','Категориальный'], # - №16\n",
    "    ['Вы страдали ожирением?','Категориальный'], # - №17\n",
    "]\n"
   ]
  },
  {
   "attachments": {},
   "cell_type": "markdown",
   "metadata": {},
   "source": [
    "## §5. Проверка на пропуски изначального датасета"
   ]
  },
  {
   "cell_type": "code",
   "execution_count": 344,
   "metadata": {},
   "outputs": [
    {
     "data": {
      "text/plain": [
       "Index(['record', 'Bullied_on_school_property_in_past_12_months',\n",
       "       'Bullied_not_on_school_property_in_past_12_months',\n",
       "       'Cyber_bullied_in_past_12_months', 'Custom_Age', 'Sex',\n",
       "       'Physically_attacked', 'Physical_fighting', 'Felt_lonely',\n",
       "       'Close_friends', 'Miss_school_no_permission',\n",
       "       'Other_students_kind_and_helpful', 'Parents_understand_problems',\n",
       "       'Most_of_the_time_or_always_felt_lonely',\n",
       "       'Missed_classes_or_school_without_permission', 'Were_underweight',\n",
       "       'Were_overweight', 'Were_obese'],\n",
       "      dtype='object')"
      ]
     },
     "execution_count": 344,
     "metadata": {},
     "output_type": "execute_result"
    }
   ],
   "source": [
    "bullying_df.columns"
   ]
  },
  {
   "cell_type": "code",
   "execution_count": 373,
   "metadata": {},
   "outputs": [
    {
     "name": "stdout",
     "output_type": "stream",
     "text": [
      "### Варианты ответа на ```Bullied_on_school_property_in_past_12_months```\n",
      "\n",
      "|---|---|---|\n",
      "| Y | e | s |\n",
      "| N | o |   |\n",
      "|   |   |   |\n",
      "\n",
      "### Варианты ответа на ```Bullied_not_on_school_property_in_past_12_months```\n",
      "\n",
      "|---|---|---|\n",
      "| Y | e | s |\n",
      "| N | o |   |\n",
      "|   |   |   |\n",
      "\n",
      "### Варианты ответа на ```Cyber_bullied_in_past_12_months```\n",
      "\n",
      "|---|---|---|\n",
      "|   |   |   |\n",
      "| N | o |   |\n",
      "| Y | e | s |\n",
      "\n",
      "### Варианты ответа на ```Custom_Age```\n",
      "\n",
      "|---|---|--|---|---|---|---|---|--|---|---|---|--|---|---|--|---|---|---|---|---|---|---|\n",
      "| 1 | 3 |  | y | e | a | r | s |  | o | l | d |  |   |   |  |   |   |   |   |   |   |   |\n",
      "| 1 | 4 |  | y | e | a | r | s |  | o | l | d |  |   |   |  |   |   |   |   |   |   |   |\n",
      "| 1 | 6 |  | y | e | a | r | s |  | o | l | d |  |   |   |  |   |   |   |   |   |   |   |\n",
      "| 1 | 2 |  | y | e | a | r | s |  | o | l | d |  |   |   |  |   |   |   |   |   |   |   |\n",
      "| 1 | 5 |  | y | e | a | r | s |  | o | l | d |  |   |   |  |   |   |   |   |   |   |   |\n",
      "| 1 | 1 |  | y | e | a | r | s |  | o | l | d |  | o | r |  | y | o | u | n | g | e | r |\n",
      "| 1 | 7 |  | y | e | a | r | s |  | o | l | d |  |   |   |  |   |   |   |   |   |   |   |\n",
      "|   |   |  |   |   |   |   |   |  |   |   |   |  |   |   |  |   |   |   |   |   |   |   |\n",
      "| 1 | 8 |  | y | e | a | r | s |  | o | l | d |  | o | r |  | o | l | d | e | r |   |   |\n",
      "\n",
      "### Варианты ответа на ```Sex```\n",
      "\n",
      "|---|---|---|---|---|---|\n",
      "| F | e | m | a | l | e |\n",
      "| M | a | l | e |   |   |\n",
      "|   |   |   |   |   |   |\n",
      "\n",
      "### Варианты ответа на ```Physically_attacked```\n",
      "\n",
      "|---|---|---|---|---|---|---|---|---|---|---|---|---|---|---|---|\n",
      "| 0 |   | t | i | m | e | s |   |   |   |   |   |   |   |   |   |\n",
      "| 1 |   | t | i | m | e |   |   |   |   |   |   |   |   |   |   |\n",
      "| 1 | 2 |   | o | r |   | m | o | r | e |   | t | i | m | e | s |\n",
      "| 4 |   | o | r |   | 5 |   | t | i | m | e | s |   |   |   |   |\n",
      "| 2 |   | o | r |   | 3 |   | t | i | m | e | s |   |   |   |   |\n",
      "| 1 | 0 |   | o | r |   | 1 | 1 |   | t | i | m | e | s |   |   |\n",
      "| 8 |   | o | r |   | 9 |   | t | i | m | e | s |   |   |   |   |\n",
      "| 6 |   | o | r |   | 7 |   | t | i | m | e | s |   |   |   |   |\n",
      "|   |   |   |   |   |   |   |   |   |   |   |   |   |   |   |   |\n",
      "\n",
      "### Варианты ответа на ```Physical_fighting```\n",
      "\n",
      "|---|---|---|---|---|---|---|---|---|---|---|---|---|---|---|---|\n",
      "| 0 |   | t | i | m | e | s |   |   |   |   |   |   |   |   |   |\n",
      "| 2 |   | o | r |   | 3 |   | t | i | m | e | s |   |   |   |   |\n",
      "| 1 |   | t | i | m | e |   |   |   |   |   |   |   |   |   |   |\n",
      "| 4 |   | o | r |   | 5 |   | t | i | m | e | s |   |   |   |   |\n",
      "| 6 |   | o | r |   | 7 |   | t | i | m | e | s |   |   |   |   |\n",
      "| 8 |   | o | r |   | 9 |   | t | i | m | e | s |   |   |   |   |\n",
      "| 1 | 0 |   | o | r |   | 1 | 1 |   | t | i | m | e | s |   |   |\n",
      "|   |   |   |   |   |   |   |   |   |   |   |   |   |   |   |   |\n",
      "| 1 | 2 |   | o | r |   | m | o | r | e |   | t | i | m | e | s |\n",
      "\n",
      "### Варианты ответа на ```Felt_lonely```\n",
      "\n",
      "|---|---|---|---|---|---|---|---|---|---|---|--|---|---|---|---|\n",
      "| A | l | w | a | y | s |   |   |   |   |   |  |   |   |   |   |\n",
      "| N | e | v | e | r |   |   |   |   |   |   |  |   |   |   |   |\n",
      "| R | a | r | e | l | y |   |   |   |   |   |  |   |   |   |   |\n",
      "| S | o | m | e | t | i | m | e | s |   |   |  |   |   |   |   |\n",
      "| M | o | s | t |   | o | f |   | t | h | e |  | t | i | m | e |\n",
      "|   |   |   |   |   |   |   |   |   |   |   |  |   |   |   |   |\n",
      "\n",
      "### Варианты ответа на ```Close_friends```\n",
      "\n",
      "|---|--|---|---|--|---|---|---|---|\n",
      "| 2 |  |   |   |  |   |   |   |   |\n",
      "| 3 |  | o | r |  | m | o | r | e |\n",
      "| 0 |  |   |   |  |   |   |   |   |\n",
      "|   |  |   |   |  |   |   |   |   |\n",
      "| 1 |  |   |   |  |   |   |   |   |\n",
      "\n",
      "### Варианты ответа на ```Miss_school_no_permission```\n",
      "\n",
      "|---|---|---|---|---|---|---|---|---|---|---|---|---|---|---|\n",
      "| 1 | 0 |   | o | r |   | m | o | r | e |   | d | a | y | s |\n",
      "| 0 |   | d | a | y | s |   |   |   |   |   |   |   |   |   |\n",
      "| 6 |   | t | o |   | 9 |   | d | a | y | s |   |   |   |   |\n",
      "| 3 |   | t | o |   | 5 |   | d | a | y | s |   |   |   |   |\n",
      "|   |   |   |   |   |   |   |   |   |   |   |   |   |   |   |\n",
      "| 1 |   | o | r |   | 2 |   | d | a | y | s |   |   |   |   |\n",
      "\n",
      "### Варианты ответа на ```Other_students_kind_and_helpful```\n",
      "\n",
      "|---|---|---|---|---|---|---|---|---|---|---|--|---|---|---|---|\n",
      "| N | e | v | e | r |   |   |   |   |   |   |  |   |   |   |   |\n",
      "| S | o | m | e | t | i | m | e | s |   |   |  |   |   |   |   |\n",
      "| M | o | s | t |   | o | f |   | t | h | e |  | t | i | m | e |\n",
      "|   |   |   |   |   |   |   |   |   |   |   |  |   |   |   |   |\n",
      "| A | l | w | a | y | s |   |   |   |   |   |  |   |   |   |   |\n",
      "| R | a | r | e | l | y |   |   |   |   |   |  |   |   |   |   |\n",
      "\n",
      "### Варианты ответа на ```Parents_understand_problems```\n",
      "\n",
      "|---|---|---|---|---|---|---|---|---|---|---|--|---|---|---|---|\n",
      "| A | l | w | a | y | s |   |   |   |   |   |  |   |   |   |   |\n",
      "|   |   |   |   |   |   |   |   |   |   |   |  |   |   |   |   |\n",
      "| M | o | s | t |   | o | f |   | t | h | e |  | t | i | m | e |\n",
      "| N | e | v | e | r |   |   |   |   |   |   |  |   |   |   |   |\n",
      "| S | o | m | e | t | i | m | e | s |   |   |  |   |   |   |   |\n",
      "| R | a | r | e | l | y |   |   |   |   |   |  |   |   |   |   |\n",
      "\n",
      "### Варианты ответа на ```Most_of_the_time_or_always_felt_lonely```\n",
      "\n",
      "|---|---|---|\n",
      "| Y | e | s |\n",
      "| N | o |   |\n",
      "|   |   |   |\n",
      "\n",
      "### Варианты ответа на ```Missed_classes_or_school_without_permission```\n",
      "\n",
      "|---|---|---|\n",
      "| Y | e | s |\n",
      "| N | o |   |\n",
      "|   |   |   |\n",
      "\n",
      "### Варианты ответа на ```Were_underweight```\n",
      "\n",
      "|---|---|---|\n",
      "|   |   |   |\n",
      "| N | o |   |\n",
      "| Y | e | s |\n",
      "\n",
      "### Варианты ответа на ```Were_overweight```\n",
      "\n",
      "|---|---|---|\n",
      "|   |   |   |\n",
      "| N | o |   |\n",
      "| Y | e | s |\n",
      "\n",
      "### Варианты ответа на ```Were_obese```\n",
      "\n",
      "|---|---|---|\n",
      "|   |   |   |\n",
      "| N | o |   |\n",
      "| Y | e | s |\n",
      "\n"
     ]
    }
   ],
   "source": [
    "df_variants = []\n",
    "\n",
    "for col in bullying_df.columns:\n",
    "    variants = bullying_df[col].unique()\n",
    "    if len(variants)<10:\n",
    "        print(f'### Варианты ответа на ```{col}```',end='\\n\\n')\n",
    "        print(tabulate([f'{variants[x]}' for x in range(0,len(variants))],tablefmt='github'),end='\\n\\n')            \n",
    "    # df_variants.append(variants)\n"
   ]
  },
  {
   "attachments": {},
   "cell_type": "markdown",
   "metadata": {},
   "source": [
    "## §3. Статистика по датасету"
   ]
  },
  {
   "cell_type": "code",
   "execution_count": null,
   "metadata": {},
   "outputs": [],
   "source": [
    "\n",
    "def stats(data=bullying_df, desc=bull_desc, headers=('Номер','Название','Описание','Кат.','Числ.','Кол-во вариаций')):\n",
    "    headers=('Номер','dtype','Описание','Тип','Кол-во пропусков','Кол-во вариаций')\n",
    "    table = np.arange(data.shape[1]*len(headers))\n",
    "    table = table.reshape(len(headers),data.shape[1])\n",
    "\n",
    "    table = np.array([\n",
    "                [x for x in range(1,19)],\n",
    "                [d for d in data.dtypes],\n",
    "                [a[0] for a in desc],\n",
    "                [a[1] for a in desc],\n",
    "                [data[col].isna().sum() for col in data.columns],\n",
    "                [data[col].nunique() for col in data.columns]])\n",
    "\n",
    "    table = table.transpose()\n",
    "\n",
    "    print(\n",
    "        tabulate(\n",
    "            [data.shape],\n",
    "            headers=('Кол-во строк', 'Кол-во столбцов'),\n",
    "            tablefmt=\"github\"),\n",
    "        end='\\n\\n\\n'\n",
    "        )\n",
    "    \n",
    "    print(\n",
    "        tabulate(\n",
    "            table,\n",
    "            headers=headers,\n",
    "            tablefmt='github'\n",
    "        ),\n",
    "        end='\\n\\n\\n'\n",
    "        )\n",
    "\n",
    "stats()"
   ]
  },
  {
   "attachments": {},
   "cell_type": "markdown",
   "metadata": {},
   "source": [
    "## §4. Нормализация данных"
   ]
  },
  {
   "cell_type": "code",
   "execution_count": null,
   "metadata": {},
   "outputs": [],
   "source": [
    "def normalized_source(df=bullying_df):\n",
    "    return df\n",
    "\n",
    "stats(data=normalized_source())\n"
   ]
  }
 ],
 "metadata": {
  "kernelspec": {
   "display_name": "snowflakes",
   "language": "python",
   "name": "python3"
  },
  "language_info": {
   "codemirror_mode": {
    "name": "ipython",
    "version": 3
   },
   "file_extension": ".py",
   "mimetype": "text/x-python",
   "name": "python",
   "nbconvert_exporter": "python",
   "pygments_lexer": "ipython3",
   "version": "3.10.9"
  },
  "orig_nbformat": 4
 },
 "nbformat": 4,
 "nbformat_minor": 2
}
